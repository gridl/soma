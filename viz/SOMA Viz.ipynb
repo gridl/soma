{
 "cells": [
  {
   "cell_type": "code",
   "execution_count": null,
   "metadata": {
    "collapsed": false,
    "scrolled": false
   },
   "outputs": [],
   "source": [
    "from datetime import datetime\n",
    "from bokeh.models import ColumnDataSource\n",
    "from bokeh.plotting import figure, output_file,output_notebook, show\n",
    "\n",
    "## MOVE THIS SOMEWHERE ELSE:\n",
    "## mpirun -n 4 --host mpicontainer_mpi_head_1,mpicontainer_mpi_node_1,mpicontainer_mpi_node_2,mpicontainer_mpi_node_3 /bin/bash -c \"source /home/mpirun/shared/soma.ve/bin/activate && soma -k peahi.inf.ed.ac.uk\" < /dev/null\n",
    "## - document VOLUME\n",
    "\n",
    "# the data we want to plot\n",
    "time       = []\n",
    "throughput = []\n",
    "mpiprocs   = []\n",
    "\n",
    "appdata = ColumnDataSource(data=dict(time=time, throughput=throughput, mpiprocs=mpiprocs))\n",
    "\n",
    "def add_values(time, throughput, mpiprocs):\n",
    "    \"\"\" Adds a new tuple to the ColumnDataSource.\n",
    "    \"\"\"\n",
    "    if not isinstance(time, list): time = [time]\n",
    "    appdata.data['time'] = appdata.data['time'] + time\n",
    "    \n",
    "    if not isinstance(throughput, list): throughput = [throughput]\n",
    "    appdata.data['throughput'] = appdata.data['throughput'] + throughput\n",
    "    \n",
    "    if not isinstance(mpiprocs, list): mpiprocs = [mpiprocs]\n",
    "    appdata.data['mpiprocs'] = appdata.data['mpiprocs'] + mpiprocs\n",
    "        \n",
    "    appdata.push_notebook()\n",
    "\n",
    "output_notebook()\n",
    "\n",
    "# create a new plot with a title and axis labels\n",
    "p = figure(\n",
    "    title=\"Runtime Metrics\", \n",
    "    x_axis_type=\"datetime\", \n",
    "    x_axis_label='Time', \n",
    "    y_axis_label='', \n",
    "    plot_width=900)\n",
    "\n",
    "# add a line renderer with legend and line thickness\n",
    "p.line('time', 'throughput', legend=\"Throughput (iterations/s)\", color=\"blue\", source=appdata, line_width=2)\n",
    "p.line('time', 'mpiprocs', legend=\"MPI processes (comm.size)\", color=\"red\", source=appdata, line_width=2)\n",
    "\n",
    "# show the results\n",
    "show(p)"
   ]
  },
  {
   "cell_type": "code",
   "execution_count": null,
   "metadata": {
    "collapsed": false
   },
   "outputs": [],
   "source": [
    "import json\n",
    "import time, datetime\n",
    "from kafka.client import KafkaClient\n",
    "from kafka.consumer import SimpleConsumer\n",
    "\n",
    "client = KafkaClient(\"peahi.inf.ed.ac.uk:9092\")\n",
    "consumer = SimpleConsumer(client, \"soma-group\", \"soma\")\n",
    "\n",
    "while True:\n",
    "\n",
    "    time_list = []\n",
    "    throughput_list = []\n",
    "    mpiprocs_list = []\n",
    "    \n",
    "    for message in consumer.get_messages(count=6000, block=False):\n",
    "        data = json.loads(message.message.value)  \n",
    "        # extract the timestamp and convert it back to a datatime object\n",
    "        # timestamp format: \"2015-10-13 17:07:48.640310\"\n",
    "        ts = time.strptime(data['timestamp'], '%Y-%m-%d %H:%M:%S.%f')\n",
    "        time_list.append(datetime.datetime.fromtimestamp(time.mktime(ts)))\n",
    "        throughput_list.append(data['throughput'])\n",
    "        mpiprocs_list.append(data['mpi_processes'])\n",
    "        \n",
    "    add_values(time_list, throughput_list, mpiprocs_list)\n",
    "    time.sleep(.5)\n",
    "        \n"
   ]
  },
  {
   "cell_type": "code",
   "execution_count": null,
   "metadata": {
    "collapsed": true
   },
   "outputs": [],
   "source": []
  },
  {
   "cell_type": "code",
   "execution_count": null,
   "metadata": {
    "collapsed": true
   },
   "outputs": [],
   "source": []
  }
 ],
 "metadata": {
  "kernelspec": {
   "display_name": "Python 2",
   "language": "python",
   "name": "python2"
  },
  "language_info": {
   "codemirror_mode": {
    "name": "ipython",
    "version": 2
   },
   "file_extension": ".py",
   "mimetype": "text/x-python",
   "name": "python",
   "nbconvert_exporter": "python",
   "pygments_lexer": "ipython2",
   "version": "2.7.10"
  }
 },
 "nbformat": 4,
 "nbformat_minor": 0
}
